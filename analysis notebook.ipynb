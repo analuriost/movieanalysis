{
 "cells": [
  {
   "cell_type": "code",
   "execution_count": null,
   "metadata": {},
   "outputs": [],
   "source": [
    "import numpy as np\n",
    "import pandas as pd\n",
    "import plotly.express as px"
   ]
  },
  {
   "cell_type": "code",
   "execution_count": null,
   "metadata": {},
   "outputs": [],
   "source": [
    "movies = pd.read_csv(r\"C:\\Users\\Administrador\\Python\\archive\\movies.dat\", delimiter='::')\n",
    "print(movies.head)\n",
    "movies.columns = [\"ID\",\"Title\",\"Genre\"]\n",
    "ratings = pd.read_csv(r\"C:\\Users\\Administrador\\Python\\archive\\ratings.dat\", delimiter='::')\n",
    "ratings.columns = [\"User\", \"ID\", \"Ratings\", \"Timestamp\"]\n",
    "data = pd.merge(movies, ratings, on=[\"ID\",\"ID\"]) #igual sql\n",
    "ratings = data[\"Ratings\"].value_counts()\n",
    "number = ratings.index\n",
    "quantity = ratings.values\n",
    "fig = px.pie(data, values = quantity, names = number)\n",
    "fig.show()"
   ]
  }
 ],
 "metadata": {
  "language_info": {
   "name": "python"
  },
  "orig_nbformat": 4
 },
 "nbformat": 4,
 "nbformat_minor": 2
}
